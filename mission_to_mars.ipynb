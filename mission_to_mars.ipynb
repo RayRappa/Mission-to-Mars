{
 "cells": [
  {
   "cell_type": "code",
   "execution_count": null,
   "id": "0f44337a",
   "metadata": {},
   "outputs": [],
   "source": [
    "# Dependencies\n",
    "import pandas as pd\n",
    "from bs4 import BeautifulSoup\n",
    "from splinter import Browser\n",
    "from webdriver_manager.chrome import ChromeDriverManager"
   ]
  },
  {
   "cell_type": "code",
   "execution_count": null,
   "id": "e8a05ab3",
   "metadata": {},
   "outputs": [],
   "source": [
    "# Set the chromedriver path\n",
    "executable_path = {\"executable_path\": ChromeDriverManager().install()}\n",
    "browser = Browser(\"chrome\", **executable_path, headless=False)"
   ]
  },
  {
   "cell_type": "code",
   "execution_count": null,
   "id": "2b29194a",
   "metadata": {},
   "outputs": [],
   "source": [
    "# Load the Mars news site\n",
    "news_url = 'https://redplanetscience.com'\n",
    "browser.visit(news_url)"
   ]
  },
  {
   "cell_type": "code",
   "execution_count": null,
   "id": "009fc765",
   "metadata": {},
   "outputs": [],
   "source": [
    "# Get the latest news headline and teaser\n",
    "news_html = browser.html\n",
    "news_soup = BeautifulSoup(news_html, 'html.parser')\n",
    "\n",
    "date = news_soup.find('div', {'class': 'list_date'}).text\n",
    "title = news_soup.find('div', {'class': 'content_title'}).text\n",
    "teaser = news_soup.find('div', {'class': 'article_teaser_body'}).text\n",
    "\n",
    "if (date and title and teaser):\n",
    "    print(date)\n",
    "    print(title)\n",
    "    print(teaser)"
   ]
  },
  {
   "cell_type": "code",
   "execution_count": null,
   "id": "ac6f93a6",
   "metadata": {},
   "outputs": [],
   "source": [
    "# Load the Mars images site\n",
    "images_url = 'https://spaceimages-mars.com'\n",
    "browser.visit(images_url)"
   ]
  },
  {
   "cell_type": "code",
   "execution_count": null,
   "id": "39c12e73",
   "metadata": {},
   "outputs": [],
   "source": [
    "# Get the featured image url\n",
    "images_html = browser.html\n",
    "images_soup = BeautifulSoup(images_html, 'html.parser')\n",
    "\n",
    "images_path = images_soup.find('img', {'class': 'headerimage fade-in'}).get('src')\n",
    "featured_image_url = f'{images_url}/{images_path}'\n",
    "print(featured_image_url)"
   ]
  },
  {
   "cell_type": "code",
   "execution_count": null,
   "id": "ff77e01d",
   "metadata": {},
   "outputs": [],
   "source": [
    "# Load the Mars facts site\n",
    "facts_url = 'https://galaxyfacts-mars.com'\n",
    "browser.visit(facts_url)"
   ]
  },
  {
   "cell_type": "code",
   "execution_count": null,
   "id": "104c44a5",
   "metadata": {},
   "outputs": [],
   "source": [
    "# Scrape the Mars facts table \n",
    "tables = pd.read_html(facts_url)\n",
    "tables"
   ]
  },
  {
   "cell_type": "code",
   "execution_count": null,
   "id": "0b4f8d96",
   "metadata": {},
   "outputs": [],
   "source": [
    "# Dump it into a dataframe\n",
    "mars_facts_df = tables[0]\n",
    "mars_facts_df.columns = mars_facts_df.iloc[0]\n",
    "mars_facts_df = mars_facts_df.iloc[1:].reset_index(drop=True)\n",
    "mars_facts_df"
   ]
  },
  {
   "cell_type": "code",
   "execution_count": null,
   "id": "60e3d214",
   "metadata": {},
   "outputs": [],
   "source": [
    "# Save it to an html file\n",
    "mars_facts_df.to_html('mars_facts.html', index=False, index_names=False)"
   ]
  },
  {
   "cell_type": "code",
   "execution_count": null,
   "id": "55df3634",
   "metadata": {},
   "outputs": [],
   "source": [
    "# Load the Mars hemispheres site\n",
    "hemisphere_url = 'https://marshemispheres.com'\n",
    "browser.visit(hemisphere_url)"
   ]
  },
  {
   "cell_type": "code",
   "execution_count": null,
   "id": "c437c0ce",
   "metadata": {},
   "outputs": [],
   "source": [
    "hemisphere_html = browser.html\n",
    "hemisphere_soup = BeautifulSoup(hemisphere_html,'html.parser')"
   ]
  },
  {
   "cell_type": "code",
   "execution_count": null,
   "id": "8d66be6b",
   "metadata": {},
   "outputs": [],
   "source": [
    "results = hemisphere_soup.find_all('div', {'class': 'description'})"
   ]
  },
  {
   "cell_type": "code",
   "execution_count": null,
   "id": "5d8f1381",
   "metadata": {},
   "outputs": [],
   "source": [
    "hemisphere_images = []"
   ]
  },
  {
   "cell_type": "code",
   "execution_count": null,
   "id": "72d47ce2",
   "metadata": {},
   "outputs": [],
   "source": [
    "# Get high resolution images for each of Mar's hemispheres\n",
    "for result in results:\n",
    "    # Create a dictionary\n",
    "    hemisphere_dict = {}\n",
    "    \n",
    "    items = result.find('div', {'class': 'description'})\n",
    "    header = result.find('h3').text\n",
    "    item_link = result.find('a', {'class': 'itemLink product-item'})['href']\n",
    "    \n",
    "    # click each hemisphere link to get the url to the full resolution image\n",
    "    browser.links.find_by_partial_text(header).click()\n",
    "    \n",
    "    html = browser.html\n",
    "    soup = BeautifulSoup(html, 'html.parser')\n",
    "    \n",
    "    rel_path = soup.find('img', {'class': 'wide-image'})['src']\n",
    "    abs_path = f'{hemisphere_url}/{rel_path}'\n",
    "    \n",
    "    browser.visit(hemisphere_url)\n",
    "    \n",
    "    # Use the dictionary\n",
    "    hemisphere_dict['title'] = header\n",
    "    hemisphere_dict['img_url'] = abs_path\n",
    "    \n",
    "    # Append the dictionary\n",
    "    hemisphere_images.append(hemisphere_dict)\n",
    "\n",
    "hemisphere_images"
   ]
  },
  {
   "cell_type": "code",
   "execution_count": null,
   "id": "8bea8d09",
   "metadata": {},
   "outputs": [],
   "source": [
    "browser.quit()"
   ]
  },
  {
   "cell_type": "code",
   "execution_count": null,
   "id": "9c9cc680",
   "metadata": {},
   "outputs": [],
   "source": []
  },
  {
   "cell_type": "code",
   "execution_count": null,
   "id": "3584866e",
   "metadata": {},
   "outputs": [],
   "source": []
  }
 ],
 "metadata": {
  "kernelspec": {
   "display_name": "Python 3 (ipykernel)",
   "language": "python",
   "name": "python3"
  },
  "language_info": {
   "codemirror_mode": {
    "name": "ipython",
    "version": 3
   },
   "file_extension": ".py",
   "mimetype": "text/x-python",
   "name": "python",
   "nbconvert_exporter": "python",
   "pygments_lexer": "ipython3",
   "version": "3.8.8"
  }
 },
 "nbformat": 4,
 "nbformat_minor": 5
}
